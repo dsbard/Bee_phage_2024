{
 "cells": [
  {
   "cell_type": "code",
   "execution_count": null,
   "id": "85c3abd0",
   "metadata": {},
   "outputs": [],
   "source": [
    "# Collect previously described bee phage\n",
    "# Rosso et al phage\n",
    "# Can be downloaded from ncbi directly using this link: https://www.ncbi.nlm.nih.gov/Traces/wgs/JAAOBB01?display=contigs&page=1\n",
    "# Or can be downloaded from command line using the deboutte et al approach outlined next \n",
    "    # (as long as you have a list of accessions -- which the above link can provide)\n",
    "# Also download genomes of phage isolate: accessions are MT006233-MT006240\n",
    "# once downloaded, combine into one file\n",
    "cat rosso_virome.fa \\ # file containing all virome phage seqs\n",
    "rosso_isolates.fasta \\ # File containing all isolated phage genomes\n",
    ">> rosso_phage.fa \n",
    "\n",
    "# Download deboutte et al phage\n",
    "# using the genbank accessions provided here: https://github.com/Matthijnssenslab/Beevir/blob/master/Supptable_S18.xlsx\n",
    "# and the ncbi entrez tool kit\n",
    "efetch -db nuccore -format fasta \\ # Use efetch utility (part of entrez)\n",
    "-input deboutte_accessions.txt \\ # Input plain text file with the list of accessions \n",
    "> deboutte_phage.fa \n",
    "\n",
    "# Busby et al phage\n",
    "# Couldnt find a list of accessions or easily accesable seqs on NCBI\n",
    "    # so just downloaded the github repo + extracted the phage seqs\n",
    "git clone https://github.com/jtvanleuven/bee_phage.git\n",
    "# select folder we actually want\n",
    "cp path/to/downloaded/github/repo/bee_phage/analysis/all_phage.fasta ./busby_phage.fa \n",
    "\n",
    "# Once all \"known\" phage are downloaded, we want to rename them\n",
    "# phage will be renamed to something like \"Rosso_phage_XXX\" or \"Deboutte_phage_XXX\"\n",
    "conda activate bbduk\n",
    "rename.sh in=rosso_phage.fa out=rosso_phage_renamed.fa prefix=Rosso_phage_\n",
    "rename.sh in=deboutte_phage.fa out=deboutte_phage_renamed.fa prefix=Deboutte_phage_\n",
    "rename.sh in=busby_phage.fa out=busby_phage_renamed.fa prefix=Busby_phage_\n",
    "\n",
    "# Now, compile all phage into one place:\n",
    "cat rosso_phage_renamed.fa \\\n",
    "busby_phage_renamed.fa \\\n",
    "deboutte_phage_renamed.fa \\\n",
    ">> all_described_phage.fa\n",
    "\n",
    "# Count how many phage are here (if ya want)\n",
    "grep \">\" all_described_phage.fa | wc -l\n",
    "# 1939 total phage"
   ]
  }
 ],
 "metadata": {
  "kernelspec": {
   "display_name": "Python 3 (ipykernel)",
   "language": "python",
   "name": "python3"
  },
  "language_info": {
   "codemirror_mode": {
    "name": "ipython",
    "version": 3
   },
   "file_extension": ".py",
   "mimetype": "text/x-python",
   "name": "python",
   "nbconvert_exporter": "python",
   "pygments_lexer": "ipython3",
   "version": "3.10.10"
  }
 },
 "nbformat": 4,
 "nbformat_minor": 5
}
