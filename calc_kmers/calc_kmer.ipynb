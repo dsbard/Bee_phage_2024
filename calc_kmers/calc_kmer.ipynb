{
 "cells": [
  {
   "cell_type": "code",
   "execution_count": null,
   "id": "8f431145",
   "metadata": {},
   "outputs": [],
   "source": [
    "# Use sourmash to make kmers\n",
    "cd path/to/trimmed/and/cleaned/reads\n",
    "mkdir ../out/signatures\n",
    "for f in *R1*\n",
    "do\n",
    "sample=${f%%_S*}\n",
    "sourmash compute \\\n",
    "-k 21,31,51 \\\n",
    "--scaled 1000 \\\n",
    "--track-abundance \\\n",
    "-o ../out/signatures/${sample}.sig \\\n",
    "--merge ${sample} \\\n",
    "./${sample}*\n",
    "done\n",
    "\n",
    "# Then run abundance parser\n",
    "cd path/to/out/signatures \n",
    "for f in *.sig\n",
    "do\n",
    "sample=${f%%.sig}\n",
    "cut -f2 -d ] ${sample}.sig | cut -f2 -d [ > ${sample}.21.abs.csv\n",
    "cut -f4 -d ] ${sample}.sig | cut -f2 -d [ > ${sample}.31.abs.csv\n",
    "cut -f6 -d ] ${sample}.sig | cut -f2 -d [ > ${sample}.51.abs.csv\n",
    "done\n",
    "\n",
    "# Then aggregate for the 31mers\n",
    "for f in *.sig\n",
    "do\n",
    "sample=${f%%.sig}\n",
    "tr ',' '\\n' < ${sample}.31.abs.csv | \\\n",
    "sort | uniq -c | awk '{print $2\",\"$1}' | \\\n",
    "sed 's/$/,k31/' > ${sample}.31.freq\n",
    "done\n",
    "\n",
    "# Lastly, we use R to make complexity object\n",
    "# Specifically, we will use make_complexity_obj.Rmd"
   ]
  }
 ],
 "metadata": {
  "kernelspec": {
   "display_name": "Python 3 (ipykernel)",
   "language": "python",
   "name": "python3"
  },
  "language_info": {
   "codemirror_mode": {
    "name": "ipython",
    "version": 3
   },
   "file_extension": ".py",
   "mimetype": "text/x-python",
   "name": "python",
   "nbconvert_exporter": "python",
   "pygments_lexer": "ipython3",
   "version": "3.10.10"
  }
 },
 "nbformat": 4,
 "nbformat_minor": 5
}
