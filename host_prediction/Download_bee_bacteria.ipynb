{
 "cells": [
  {
   "cell_type": "code",
   "execution_count": null,
   "id": "df3dde2f",
   "metadata": {},
   "outputs": [],
   "source": [
    "# Download publically available assembelies of common bee associated bacteria\n",
    "# We will use these assembelies for crispr spacer analysis later\n",
    "    # We are casting a fairly large net here. \n",
    "    # Basically, a bacterial genera has members that are known to associated with bees, we want it\n",
    "# To do this, we will...\n",
    "    # 1) Download metadata all the bacteria we care about\n",
    "        # These are listed in a file named: taxa_to_download.txt\n",
    "    # 2) We will then pull some usefull pieces of data from these\n",
    "        # Accession number, Species, Host, Completeness, Contamination, N50, and Coverage\n",
    "    # 3) We then use R to pick through this and subset to the assembelies which meet our critera\n",
    "    "
   ]
  },
  {
   "cell_type": "code",
   "execution_count": 1,
   "id": "5561aa63",
   "metadata": {},
   "outputs": [
    {
     "ename": "SyntaxError",
     "evalue": "invalid syntax (3582804122.py, line 2)",
     "output_type": "error",
     "traceback": [
      "\u001b[0;36m  Cell \u001b[0;32mIn[1], line 2\u001b[0;36m\u001b[0m\n\u001b[0;31m    conda activate ncbi_datasets\u001b[0m\n\u001b[0m          ^\u001b[0m\n\u001b[0;31mSyntaxError\u001b[0m\u001b[0;31m:\u001b[0m invalid syntax\n"
     ]
    }
   ],
   "source": [
    "# collect meta data into a .json file\n",
    "conda activate ncbi_datasets\n",
    "cat taxa_to_download.txt | while read acc\n",
    "do\n",
    "datasets summary genome taxon $acc --as-json-lines \n",
    "done >> taxa_meta.jsonl\n",
    "\n",
    "# Parse that .json file and select just the pieces of info we want\n",
    "cat taxa_meta.jsonl | while read i; do\n",
    "    Acc=$(echo $i | jq -r '.accession')\n",
    "    Species=$(echo $i | jq -r '.assembly_info.biosample.description.organism.organism_name')\n",
    "    Host=$(echo $i | jq -r '.assembly_info.biosample.attributes[] | select(.name == \"host\") | .value')\n",
    "    Complete=$(echo $i | jq -r '.checkm_info.completeness')\n",
    "    Contam=$(echo $i | jq -r '.checkm_info.contamination')\n",
    "    N50=$(echo $i | jq -r '.assembly_stats.contig_n50')\n",
    "    Cover=$(echo $i | jq -r '.assembly_stats.genome_coverage')\n",
    "    echo -e $Acc,$Species,$Host,$Complete,$Contam,$N50,$Cover\n",
    "done >> taxa_meta_table.csv\n",
    "\n",
    "# After using R to subset these potential assembelies to just the ones that meet our criteria, download actual genomes\n",
    "    # Note, this is a lot of data!!!! \n",
    "        # Some taxa (i.e. lactobacillus, bifidobacterium, etc.) are very well described (there is a mountain of assembelies on NCBI)\n",
    "        # And we are basically scraping all of their assembelies\n",
    "    # The file produced by R is named: good_accessions.csv\n",
    "    \n",
    "# Download em\n",
    "# make a new file with just the accessions\n",
    "# First thing, the file produced by R cannot be fed directly to NCBI datasets becasue if has two columns, whereas NCBI dataset expects just a list of accessions\n",
    "# So, start by making a new file called \"good_accessions_only.csv\" which contains only the good accessions\n",
    "cat good_accessions.csv | awk -F\",\" '{print $1}' > good_accessions_only.csv\n",
    "# Now start the download\n",
    "mkdir by_accession\n",
    "cd by_accession\n",
    "conda activate ncbi_datasets\n",
    "datasets download genome accession \\\n",
    "--inputfile ../good_accessions_only.csv \\\n",
    "--dehydrated \\\n",
    "--include genome \\\n",
    "--filename quality_assemblies.zip\n",
    "\n",
    "# once downloaded, unzip and rehydrate the files\n",
    "# unzip and rehydrate\n",
    "mkdir unzipped\n",
    "unzip quality_assemblies.zip -d ./unzipped/quality_assembelies\n",
    "# Then rehydrate\n",
    "cd unzipped\n",
    "datasets rehydrate --directory quality_assembelies \n",
    "# 29,584\n",
    "\n",
    "# Now, we want to move the actual assembely/genome files to a new directory\n",
    "# we will also rename the files to reflect their specific taxonomy\n",
    "# move genomes to new dir\n",
    "mkdir genomes\n",
    "for f in quality_assembelies/ncbi_dataset/data/*/*.fna\n",
    "do\n",
    "X=${f##*data/}\n",
    "Y=${X%%/*}\n",
    "cp $f ./genomes/$Y.fna\n",
    "done\n",
    "# Rename\n",
    "# We will use their accession numbers to match them up with their Genus using good_accessions.csv\n",
    "mkdir renamed\n",
    "cat ../../good_accessions.csv | while read line\n",
    "do\n",
    "acc=$(echo $line | awk -F\",\" '{print $1}' | tr -d '[:space:]')\n",
    "gen=$(echo $line | awk -F\",\" '{print $2}' | tr -d '[:space:]')\n",
    "cp ./genomes/${acc}.fna ./renamed/${gen}_${acc}.fna\n",
    "done\n",
    "# Done! We have downloaded (alot of) bee associated bacterial genomes/assemeblies and given them usefull names              "
   ]
  }
 ],
 "metadata": {
  "kernelspec": {
   "display_name": "Python 3 (ipykernel)",
   "language": "python",
   "name": "python3"
  },
  "language_info": {
   "codemirror_mode": {
    "name": "ipython",
    "version": 3
   },
   "file_extension": ".py",
   "mimetype": "text/x-python",
   "name": "python",
   "nbconvert_exporter": "python",
   "pygments_lexer": "ipython3",
   "version": "3.10.10"
  }
 },
 "nbformat": 4,
 "nbformat_minor": 5
}
