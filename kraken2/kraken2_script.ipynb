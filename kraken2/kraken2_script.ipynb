{
 "cells": [
  {
   "cell_type": "code",
   "execution_count": null,
   "id": "6ecbafc2",
   "metadata": {},
   "outputs": [],
   "source": [
    "# This is the code we used to infer the bacterial communities of our bees\n",
    "# Starting from our cleaned total metagenome reads, it...\n",
    "    # Runs kraken2 to map read khmers to the PlusPF_db database\n",
    "    # puts the kraken2 output through braken to make .biom file for use in phyloseq and R\n",
    "\n",
    "#!/bin/bash\n",
    "#SBATCH --job-name=kraken_db_%j\n",
    "#SBATCH --nodes=1\n",
    "#SBATCH -t 3:00:00\n",
    "#SBATCH --ntasks=24\n",
    "#SBATCH --output=/home/dsbard/bee_phage/dls/total_metagenomes/kraken/log/kraken_db_%j.out\n",
    "#SBATCH --partition=bigmemm\n",
    "#SBATCH --mem 250GB\n",
    "\n",
    "conda activate kraken2\n",
    "\n",
    "kraken2 --db /home/dsbard/bee_phage/dls/total_metagenomes/kraken/PlusPF_db \\\n",
    "--threads 24 \\\n",
    "--paired /home/dsbard/bee_phage/dls/total_metagenomes/decontam/$1 \\\n",
    "/home/dsbard/bee_phage/dls/total_metagenomes/decontam/${1%%R1*}R2.fastq.gz \\\n",
    "--output /home/dsbard/bee_phage/dls/total_metagenomes/kraken/out/PlusPF/${1%%_host*}.kraken \\\n",
    "--report /home/dsbard/bee_phage/dls/total_metagenomes/kraken/out/PlusPF/${1%%_host*}.report\n",
    "\n",
    "# We then use bracken to estimate abundance (using default parameters)\n",
    "conda activate bracken\n",
    "for f in *.report\n",
    "do\n",
    "bracken -d home/dsbard/bee_phage/dls/total_metagenomes/kraken/PlusPF_db \\\n",
    "-i $f -o ./bracken/${f%%.report}.bracken\n",
    "done\n",
    "\n",
    "# lastly, use kraken-biom to collect data into a .biom file\n",
    "cd ./bracken\n",
    "kraken-biom *.report --fmt json -o bee_S.biom"
   ]
  }
 ],
 "metadata": {
  "kernelspec": {
   "display_name": "Python 3 (ipykernel)",
   "language": "python",
   "name": "python3"
  },
  "language_info": {
   "codemirror_mode": {
    "name": "ipython",
    "version": 3
   },
   "file_extension": ".py",
   "mimetype": "text/x-python",
   "name": "python",
   "nbconvert_exporter": "python",
   "pygments_lexer": "ipython3",
   "version": "3.10.10"
  }
 },
 "nbformat": 4,
 "nbformat_minor": 5
}
