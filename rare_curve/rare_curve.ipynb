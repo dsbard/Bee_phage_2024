{
 "cells": [
  {
   "cell_type": "code",
   "execution_count": null,
   "id": "996019c2",
   "metadata": {},
   "outputs": [],
   "source": [
    "# This is code for creating the accumulation curves shown in our manuscript\n",
    "## To build this curves, we...\n",
    "    ## 1) randomly subsample reads from each sequencing library\n",
    "    ## 2) Map those subsampled reads back to each of our putative phage sequences\n",
    "    ## 3) Visualize how phage coverage changes as a result of subsampled library size\n",
    "\n",
    "# Randomly subsample reads from the decontaminated (quality trimmed + host removed) reads\n",
    "# Starting with virome reads\n",
    "cd /home/dsbard/bee_phage/dls/virome/decontam\n",
    "for f in *R1.fastq.gz\n",
    "do\n",
    "until [ $i -gt 3500000 ]\n",
    "do\n",
    "seqtk sample -s100 $f $i > seqtk/${f%%.fastq.gz}_$i.fq\n",
    "seqtk sample -s100 ${f%%R1*}R2.fastq.gz $i > seqtk/${f%%R1*}R2_$i.fq\n",
    "echo $i\n",
    "((i=i+100000))\n",
    "done\n",
    "done\n",
    "\n",
    "# Then calculate coverage using randomly subsampled reads\n",
    "cd /home/dsbard/bee_phage/dls/virome/decontam/seqtk\n",
    "i=0\n",
    "until [$i -gt 3500000]\n",
    "do     \n",
    "for f in *R1_$i.fq;     \n",
    "do     \n",
    "if [ $i -le 3500000 ]\n",
    "then         \n",
    "coverm genome -t 24 \\\n",
    "-1 /home/dsbard/bee_phage/dls/virome/decontam/seqtk/$f \\\n",
    "-2 /home/dsbard/bee_phage/dls/virome/decontam/seqtk/${f%%R1*}R2_$i.fq \\\n",
    "--genome-fasta-directory /home/dsbard/bee_phage/reviewer_approach/drep/dereplicated_phage/dereplicated_genomes \\\n",
    "--genome-fasta-extension .fa \\\n",
    "--min-read-percent-identity 95 \\\n",
    "-m trimmed_mean \\\n",
    "--min-covered-fraction=75 \\\n",
    "--output-file /home/dsbard/bee_phage/reviewer_approach/rare_curve/out/${f%%.fq*}_cover_result.tsv         \n",
    "echo $i   \n",
    "fi \n",
    "done; \n",
    "((i=i+100000))\n",
    "done"
   ]
  }
 ],
 "metadata": {
  "kernelspec": {
   "display_name": "Python 3 (ipykernel)",
   "language": "python",
   "name": "python3"
  },
  "language_info": {
   "codemirror_mode": {
    "name": "ipython",
    "version": 3
   },
   "file_extension": ".py",
   "mimetype": "text/x-python",
   "name": "python",
   "nbconvert_exporter": "python",
   "pygments_lexer": "ipython3",
   "version": "3.10.10"
  }
 },
 "nbformat": 4,
 "nbformat_minor": 5
}
